{
 "cells": [
  {
   "cell_type": "code",
   "execution_count": null,
   "metadata": {},
   "outputs": [],
   "source": [
    "# default_exp core"
   ]
  },
  {
   "cell_type": "markdown",
   "metadata": {},
   "source": [
    "# igwp\n",
    "\n",
    "> API details."
   ]
  },
  {
   "cell_type": "code",
   "execution_count": null,
   "metadata": {},
   "outputs": [
    {
     "name": "stdout",
     "output_type": "stream",
     "text": [
      "The autoreload extension is already loaded. To reload it, use:\n",
      "  %reload_ext autoreload\n"
     ]
    }
   ],
   "source": [
    "#hide\n",
    "from nbdev.showdoc import *\n",
    "%load_ext autoreload\n",
    "%autoreload 2"
   ]
  },
  {
   "cell_type": "code",
   "execution_count": null,
   "metadata": {},
   "outputs": [],
   "source": [
    "#export\n",
    "from pathlib import Path\n",
    "\n",
    "import numpy as np\n",
    "import pandas as pd\n",
    "\n",
    "from fair.forward import fair_scm\n",
    "from fair.RCPs import rcp26, rcp45, rcp6, rcp85"
   ]
  },
  {
   "cell_type": "markdown",
   "metadata": {},
   "source": [
    "### Constants\n",
    "\n",
    "$GWP_{100}$ for Methane is 28 according to [AR5](https://en.wikipedia.org/wiki/IPCC_Fifth_Assessment_Report)"
   ]
  },
  {
   "cell_type": "code",
   "execution_count": null,
   "metadata": {},
   "outputs": [],
   "source": [
    "#export\n",
    "GWP100_CH4 = 28"
   ]
  },
  {
   "cell_type": "code",
   "execution_count": null,
   "metadata": {},
   "outputs": [],
   "source": [
    "#export\n",
    "def get_emission_data_paths(data_path=None):\n",
    "    \"\"\"Get paths for emisson at file.\n",
    "    \n",
    "    :param: data_path - path to files, defaults to the `gwp/data`\n",
    "    \n",
    "    :return: dict with scenario names as keys and paths to\n",
    "              data files as values\n",
    "    \"\"\"\n",
    "    if not data_path:\n",
    "        import igwp\n",
    "        lib_base = Path(igwp.__file__).absolute().parent\n",
    "        data_path = lib_base / 'data'\n",
    "    rcp_scenarios = {\n",
    "        'RCP 2.6': 'RCP3PD_EMISSIONS.csv',\n",
    "        'RCP 4.5': 'RCP45_EMISSIONS.csv',\n",
    "        'RCP 6': 'RCP6_EMISSIONS.csv',\n",
    "        'RCP 8.5': 'RCP85_EMISSIONS.csv',\n",
    "    }\n",
    "\n",
    "    for name, file_name in rcp_scenarios.items():\n",
    "        rcp_scenarios[name] = data_path / file_name\n",
    "    return rcp_scenarios"
   ]
  },
  {
   "cell_type": "code",
   "execution_count": null,
   "metadata": {},
   "outputs": [],
   "source": [
    "#export\n",
    "def calc_temp_increase():\n",
    "    \"\"\"Calculate temperature increase caused by Methane only\n",
    "    \n",
    "    This uses FaiR: https://github.com/OMS-NetZero/FAIR\n",
    "    \n",
    "    Returns a pandas DataFrame with columns RCP 2.6, RCP 4.5, RCP 6, RCP 8.5\n",
    "    and rows with yearly data from 1765 to 2500.\n",
    "    \"\"\"\n",
    "    forcings = {\n",
    "        'RCP 2.6': rcp26.Forcing.forcing,\n",
    "        'RCP 4.5': rcp45.Forcing.forcing,\n",
    "        'RCP 6': rcp6.Forcing.forcing, \n",
    "        'RCP 8.5': rcp85.Forcing.forcing\n",
    "    }\n",
    "\n",
    "    methane_pos = 9\n",
    "    temps = {}\n",
    "    for name, forcing in forcings.items():\n",
    "        noco2 = np.zeros_like(forcing[:, methane_pos])\n",
    "        *_, temp = fair_scm(useMultigas=False, emissions=noco2, \n",
    "                            other_rf=forcing[:, methane_pos] * 1.65)\n",
    "        temps[name] = temp\n",
    "    temperature_increases = pd.DataFrame(temps)\n",
    "    temperature_increases.index = forcing[:, 0]\n",
    "    return temperature_increases"
   ]
  },
  {
   "cell_type": "code",
   "execution_count": null,
   "metadata": {},
   "outputs": [],
   "source": [
    "#export\n",
    "def calc_gwpstar_emissions(emissons, gwp_h=GWP100_CH4, h=100, delt=20):\n",
    "    \"\"\"    \n",
    "    Calculation of GWP* from GWP \n",
    "    \n",
    "    Based on Allen et. al 2018\n",
    "    \n",
    "    :param: emissons pandas Series with emission values, index is year\n",
    "    :param: gwp_h GWP for `h` years\n",
    "    :param: h time in years \n",
    "    :param: delt delta tine in years\n",
    "    :return: GWP*  \n",
    "    \"\"\"\n",
    "    emissons_0 = emissons.iloc[:-delt]\n",
    "    emissons_1 = emissons.iloc[delt:]\n",
    "    emissons_0.index = emissons_1.index  # assume pandas Series\n",
    "    return ((emissons_1 - emissons_0) / delt) * gwp_h * h"
   ]
  },
  {
   "cell_type": "code",
   "execution_count": null,
   "metadata": {},
   "outputs": [],
   "source": [
    "#export\n",
    "def read_data(file_name, sep = ',', skiprows=36, index_col=0, species='CH4', \n",
    "              unit_converter=0.001):\n",
    "    \"\"\"Read emssion data from a csv file.\n",
    "    \n",
    "    Per default reads Methane data from a file with the format of the\n",
    "    files in `igwp/data`. \n",
    "    These files are from FaiR: https://github.com/OMS-NetZero/FAIR\n",
    "    \n",
    "    \"\"\"\n",
    "    data = pd.read_csv(file_name, sep=sep, skiprows=skiprows, index_col=index_col)\n",
    "    return data[species] * unit_converter"
   ]
  },
  {
   "cell_type": "code",
   "execution_count": null,
   "metadata": {},
   "outputs": [],
   "source": [
    "#export\n",
    "def make_gwps(file_name, start_year=1765, end_year=2500, base_year=1765, delt=20):\n",
    "    \"\"\"Compute GWP_100, GWP*_100.\n",
    "    \"\"\"\n",
    "    emissons = read_data(file_name)\n",
    "    start_year = max(1765, start_year - delt)\n",
    "    start_index = start_year - base_year\n",
    "    end_index = end_year - base_year + 1\n",
    "    e_co2_eq = (emissons * GWP100_CH4)[start_index:end_index]\n",
    "    e_co2_eq_star = calc_gwpstar_emissions(emissons)[start_index:end_index]\n",
    "    e_co2_eq.name = '$CH_4$ GWP'\n",
    "    e_co2_eq_star.name = '$CH_4$ GWP*'\n",
    "    df = pd.DataFrame([e_co2_eq, e_co2_eq_star]).T\n",
    "    df.index.name = 'Years'\n",
    "    return df"
   ]
  },
  {
   "cell_type": "code",
   "execution_count": null,
   "metadata": {},
   "outputs": [],
   "source": [
    "#export\n",
    "def make_gwps_improved(file_name, \n",
    "                       additional_emssions=0, \n",
    "                       start_year=1765, \n",
    "                       end_year=2500, \n",
    "                       base_year=1765, \n",
    "                       delt=20,\n",
    "                       r=0.75, \n",
    "                       s=0.25):\n",
    "    \"\"\"Compute GWP_100, GWP*_100, and IGWP_100.\n",
    "    \"\"\"\n",
    "    \n",
    "        \n",
    "    emissons = read_data(file_name)\n",
    "    if isinstance(additional_emssions, pd.Series):\n",
    "        additional_emssions = additional_emssions.reindex(emissons.index, fill_value=0)\n",
    "    emissons += additional_emssions\n",
    "    start_year = max(1765, start_year - delt)\n",
    "    start_index = start_year - base_year\n",
    "    end_index = end_year - base_year + 1\n",
    "    e_co2_eq = (emissons * GWP100_CH4)[start_index:end_index]\n",
    "    e_co2_eq_star = calc_gwpstar_emissions(emissons)[start_index:end_index]\n",
    "    # here's the meat\n",
    "    e_co2_eq_star_mod = r * e_co2_eq_star + s * e_co2_eq\n",
    "    e_co2_eq.name = '$CH_4$ GWP'\n",
    "    e_co2_eq_star.name = '$CH_4$ GWP* flow only'\n",
    "    e_co2_eq_star_mod.name = '$CH_4$ GWP* flow and stock'\n",
    "    \n",
    "    df = pd.DataFrame([e_co2_eq, e_co2_eq_star, e_co2_eq_star_mod]).T\n",
    "    df.index.name = 'Years'\n",
    "    return df"
   ]
  },
  {
   "cell_type": "code",
   "execution_count": null,
   "metadata": {},
   "outputs": [
    {
     "name": "stdout",
     "output_type": "stream",
     "text": [
      "Converted 00_core.ipynb.\n",
      "Converted 01_plotting.ipynb.\n",
      "Converted index.ipynb.\n"
     ]
    }
   ],
   "source": [
    "#hide\n",
    "from nbdev.export import notebook2script; notebook2script()"
   ]
  },
  {
   "cell_type": "code",
   "execution_count": null,
   "metadata": {},
   "outputs": [],
   "source": []
  }
 ],
 "metadata": {
  "kernelspec": {
   "display_name": "Python 3",
   "language": "python",
   "name": "python3"
  }
 },
 "nbformat": 4,
 "nbformat_minor": 4
}
