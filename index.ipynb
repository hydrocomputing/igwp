{
 "cells": [
  {
   "cell_type": "markdown",
   "metadata": {},
   "source": [
    "# igwp - Improved Global Warming Potential (IGWP)\n",
    "\n",
    "\n",
    "> A Global Warming Potential model with improved support for short-lived climate pollutions (SLCPs)."
   ]
  },
  {
   "cell_type": "markdown",
   "metadata": {},
   "source": [
    "## Why an Improved Version\n",
    "\n",
    "The Global Warming Potential (GWP) is a commonly used, simple model\n",
    "to \"normalize\" the warming impact of different climate pollutants to \n",
    "$CO_2$ equivalents. This approach works well for long-lived climate \n",
    "pollutions (LLCPs) but fails for short-lived climate pollutions (SLCPs).\n",
    "The improved version of the GWP accounst much better for effect of\n",
    "SLCPs."
   ]
  },
  {
   "cell_type": "markdown",
   "metadata": {},
   "source": [
    "## Install"
   ]
  },
  {
   "cell_type": "markdown",
   "metadata": {},
   "source": [
    "With `pip`:\n",
    "\n",
    "    pip install igwp\n",
    "    \n",
    "With `conda`:\n",
    "\n",
    "    conda instal -c hydrocomputing igwp"
   ]
  },
  {
   "cell_type": "markdown",
   "metadata": {},
   "source": [
    "## How to use"
   ]
  },
  {
   "cell_type": "markdown",
   "metadata": {},
   "source": [
    "Just do something:"
   ]
  },
  {
   "cell_type": "code",
   "execution_count": null,
   "metadata": {},
   "outputs": [
    {
     "data": {
      "text/plain": [
       "2"
      ]
     },
     "execution_count": null,
     "metadata": {},
     "output_type": "execute_result"
    }
   ],
   "source": [
    "1 + 1"
   ]
  },
  {
   "cell_type": "code",
   "execution_count": null,
   "metadata": {},
   "outputs": [
    {
     "data": {
      "text/plain": [
       "4"
      ]
     },
     "execution_count": null,
     "metadata": {},
     "output_type": "execute_result"
    }
   ],
   "source": [
    "2 + 2"
   ]
  },
  {
   "cell_type": "code",
   "execution_count": null,
   "metadata": {},
   "outputs": [],
   "source": []
  }
 ],
 "metadata": {
  "kernelspec": {
   "display_name": "Python 3",
   "language": "python",
   "name": "python3"
  }
 },
 "nbformat": 4,
 "nbformat_minor": 4
}
